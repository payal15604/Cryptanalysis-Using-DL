{
  "nbformat": 4,
  "nbformat_minor": 0,
  "metadata": {
    "colab": {
      "provenance": []
    },
    "kernelspec": {
      "name": "python3",
      "display_name": "Python 3"
    },
    "language_info": {
      "name": "python"
    }
  },
  "cells": [
    {
      "cell_type": "code",
      "execution_count": null,
      "metadata": {
        "colab": {
          "base_uri": "https://localhost:8080/",
          "height": 397
        },
        "id": "OwHglPHc6z_r",
        "outputId": "f87583cb-dbd9-431f-beae-7b58e4708713"
      },
      "outputs": [
        {
          "output_type": "error",
          "ename": "FileNotFoundError",
          "evalue": "ignored",
          "traceback": [
            "\u001b[0;31m---------------------------------------------------------------------------\u001b[0m",
            "\u001b[0;31mFileNotFoundError\u001b[0m                         Traceback (most recent call last)",
            "\u001b[0;32m<ipython-input-1-f4ec0d1361fd>\u001b[0m in \u001b[0;36m<cell line: 9>\u001b[0;34m()\u001b[0m\n\u001b[1;32m      7\u001b[0m \u001b[0;34m\u001b[0m\u001b[0m\n\u001b[1;32m      8\u001b[0m \u001b[0;31m# Step 1: Read the data from CSV file\u001b[0m\u001b[0;34m\u001b[0m\u001b[0;34m\u001b[0m\u001b[0m\n\u001b[0;32m----> 9\u001b[0;31m \u001b[0mdata\u001b[0m \u001b[0;34m=\u001b[0m \u001b[0mpd\u001b[0m\u001b[0;34m.\u001b[0m\u001b[0mread_csv\u001b[0m\u001b[0;34m(\u001b[0m\u001b[0;34m\"data.csv\"\u001b[0m\u001b[0;34m)\u001b[0m\u001b[0;34m\u001b[0m\u001b[0;34m\u001b[0m\u001b[0m\n\u001b[0m\u001b[1;32m     10\u001b[0m \u001b[0;34m\u001b[0m\u001b[0m\n\u001b[1;32m     11\u001b[0m \u001b[0;31m# Step 2: Preprocess the data\u001b[0m\u001b[0;34m\u001b[0m\u001b[0;34m\u001b[0m\u001b[0m\n",
            "\u001b[0;32m/usr/local/lib/python3.10/dist-packages/pandas/util/_decorators.py\u001b[0m in \u001b[0;36mwrapper\u001b[0;34m(*args, **kwargs)\u001b[0m\n\u001b[1;32m    209\u001b[0m                 \u001b[0;32melse\u001b[0m\u001b[0;34m:\u001b[0m\u001b[0;34m\u001b[0m\u001b[0;34m\u001b[0m\u001b[0m\n\u001b[1;32m    210\u001b[0m                     \u001b[0mkwargs\u001b[0m\u001b[0;34m[\u001b[0m\u001b[0mnew_arg_name\u001b[0m\u001b[0;34m]\u001b[0m \u001b[0;34m=\u001b[0m \u001b[0mnew_arg_value\u001b[0m\u001b[0;34m\u001b[0m\u001b[0;34m\u001b[0m\u001b[0m\n\u001b[0;32m--> 211\u001b[0;31m             \u001b[0;32mreturn\u001b[0m \u001b[0mfunc\u001b[0m\u001b[0;34m(\u001b[0m\u001b[0;34m*\u001b[0m\u001b[0margs\u001b[0m\u001b[0;34m,\u001b[0m \u001b[0;34m**\u001b[0m\u001b[0mkwargs\u001b[0m\u001b[0;34m)\u001b[0m\u001b[0;34m\u001b[0m\u001b[0;34m\u001b[0m\u001b[0m\n\u001b[0m\u001b[1;32m    212\u001b[0m \u001b[0;34m\u001b[0m\u001b[0m\n\u001b[1;32m    213\u001b[0m         \u001b[0;32mreturn\u001b[0m \u001b[0mcast\u001b[0m\u001b[0;34m(\u001b[0m\u001b[0mF\u001b[0m\u001b[0;34m,\u001b[0m \u001b[0mwrapper\u001b[0m\u001b[0;34m)\u001b[0m\u001b[0;34m\u001b[0m\u001b[0;34m\u001b[0m\u001b[0m\n",
            "\u001b[0;32m/usr/local/lib/python3.10/dist-packages/pandas/util/_decorators.py\u001b[0m in \u001b[0;36mwrapper\u001b[0;34m(*args, **kwargs)\u001b[0m\n\u001b[1;32m    329\u001b[0m                     \u001b[0mstacklevel\u001b[0m\u001b[0;34m=\u001b[0m\u001b[0mfind_stack_level\u001b[0m\u001b[0;34m(\u001b[0m\u001b[0;34m)\u001b[0m\u001b[0;34m,\u001b[0m\u001b[0;34m\u001b[0m\u001b[0;34m\u001b[0m\u001b[0m\n\u001b[1;32m    330\u001b[0m                 )\n\u001b[0;32m--> 331\u001b[0;31m             \u001b[0;32mreturn\u001b[0m \u001b[0mfunc\u001b[0m\u001b[0;34m(\u001b[0m\u001b[0;34m*\u001b[0m\u001b[0margs\u001b[0m\u001b[0;34m,\u001b[0m \u001b[0;34m**\u001b[0m\u001b[0mkwargs\u001b[0m\u001b[0;34m)\u001b[0m\u001b[0;34m\u001b[0m\u001b[0;34m\u001b[0m\u001b[0m\n\u001b[0m\u001b[1;32m    332\u001b[0m \u001b[0;34m\u001b[0m\u001b[0m\n\u001b[1;32m    333\u001b[0m         \u001b[0;31m# error: \"Callable[[VarArg(Any), KwArg(Any)], Any]\" has no\u001b[0m\u001b[0;34m\u001b[0m\u001b[0;34m\u001b[0m\u001b[0m\n",
            "\u001b[0;32m/usr/local/lib/python3.10/dist-packages/pandas/io/parsers/readers.py\u001b[0m in \u001b[0;36mread_csv\u001b[0;34m(filepath_or_buffer, sep, delimiter, header, names, index_col, usecols, squeeze, prefix, mangle_dupe_cols, dtype, engine, converters, true_values, false_values, skipinitialspace, skiprows, skipfooter, nrows, na_values, keep_default_na, na_filter, verbose, skip_blank_lines, parse_dates, infer_datetime_format, keep_date_col, date_parser, dayfirst, cache_dates, iterator, chunksize, compression, thousands, decimal, lineterminator, quotechar, quoting, doublequote, escapechar, comment, encoding, encoding_errors, dialect, error_bad_lines, warn_bad_lines, on_bad_lines, delim_whitespace, low_memory, memory_map, float_precision, storage_options)\u001b[0m\n\u001b[1;32m    948\u001b[0m     \u001b[0mkwds\u001b[0m\u001b[0;34m.\u001b[0m\u001b[0mupdate\u001b[0m\u001b[0;34m(\u001b[0m\u001b[0mkwds_defaults\u001b[0m\u001b[0;34m)\u001b[0m\u001b[0;34m\u001b[0m\u001b[0;34m\u001b[0m\u001b[0m\n\u001b[1;32m    949\u001b[0m \u001b[0;34m\u001b[0m\u001b[0m\n\u001b[0;32m--> 950\u001b[0;31m     \u001b[0;32mreturn\u001b[0m \u001b[0m_read\u001b[0m\u001b[0;34m(\u001b[0m\u001b[0mfilepath_or_buffer\u001b[0m\u001b[0;34m,\u001b[0m \u001b[0mkwds\u001b[0m\u001b[0;34m)\u001b[0m\u001b[0;34m\u001b[0m\u001b[0;34m\u001b[0m\u001b[0m\n\u001b[0m\u001b[1;32m    951\u001b[0m \u001b[0;34m\u001b[0m\u001b[0m\n\u001b[1;32m    952\u001b[0m \u001b[0;34m\u001b[0m\u001b[0m\n",
            "\u001b[0;32m/usr/local/lib/python3.10/dist-packages/pandas/io/parsers/readers.py\u001b[0m in \u001b[0;36m_read\u001b[0;34m(filepath_or_buffer, kwds)\u001b[0m\n\u001b[1;32m    603\u001b[0m \u001b[0;34m\u001b[0m\u001b[0m\n\u001b[1;32m    604\u001b[0m     \u001b[0;31m# Create the parser.\u001b[0m\u001b[0;34m\u001b[0m\u001b[0;34m\u001b[0m\u001b[0m\n\u001b[0;32m--> 605\u001b[0;31m     \u001b[0mparser\u001b[0m \u001b[0;34m=\u001b[0m \u001b[0mTextFileReader\u001b[0m\u001b[0;34m(\u001b[0m\u001b[0mfilepath_or_buffer\u001b[0m\u001b[0;34m,\u001b[0m \u001b[0;34m**\u001b[0m\u001b[0mkwds\u001b[0m\u001b[0;34m)\u001b[0m\u001b[0;34m\u001b[0m\u001b[0;34m\u001b[0m\u001b[0m\n\u001b[0m\u001b[1;32m    606\u001b[0m \u001b[0;34m\u001b[0m\u001b[0m\n\u001b[1;32m    607\u001b[0m     \u001b[0;32mif\u001b[0m \u001b[0mchunksize\u001b[0m \u001b[0;32mor\u001b[0m \u001b[0miterator\u001b[0m\u001b[0;34m:\u001b[0m\u001b[0;34m\u001b[0m\u001b[0;34m\u001b[0m\u001b[0m\n",
            "\u001b[0;32m/usr/local/lib/python3.10/dist-packages/pandas/io/parsers/readers.py\u001b[0m in \u001b[0;36m__init__\u001b[0;34m(self, f, engine, **kwds)\u001b[0m\n\u001b[1;32m   1440\u001b[0m \u001b[0;34m\u001b[0m\u001b[0m\n\u001b[1;32m   1441\u001b[0m         \u001b[0mself\u001b[0m\u001b[0;34m.\u001b[0m\u001b[0mhandles\u001b[0m\u001b[0;34m:\u001b[0m \u001b[0mIOHandles\u001b[0m \u001b[0;34m|\u001b[0m \u001b[0;32mNone\u001b[0m \u001b[0;34m=\u001b[0m \u001b[0;32mNone\u001b[0m\u001b[0;34m\u001b[0m\u001b[0;34m\u001b[0m\u001b[0m\n\u001b[0;32m-> 1442\u001b[0;31m         \u001b[0mself\u001b[0m\u001b[0;34m.\u001b[0m\u001b[0m_engine\u001b[0m \u001b[0;34m=\u001b[0m \u001b[0mself\u001b[0m\u001b[0;34m.\u001b[0m\u001b[0m_make_engine\u001b[0m\u001b[0;34m(\u001b[0m\u001b[0mf\u001b[0m\u001b[0;34m,\u001b[0m \u001b[0mself\u001b[0m\u001b[0;34m.\u001b[0m\u001b[0mengine\u001b[0m\u001b[0;34m)\u001b[0m\u001b[0;34m\u001b[0m\u001b[0;34m\u001b[0m\u001b[0m\n\u001b[0m\u001b[1;32m   1443\u001b[0m \u001b[0;34m\u001b[0m\u001b[0m\n\u001b[1;32m   1444\u001b[0m     \u001b[0;32mdef\u001b[0m \u001b[0mclose\u001b[0m\u001b[0;34m(\u001b[0m\u001b[0mself\u001b[0m\u001b[0;34m)\u001b[0m \u001b[0;34m->\u001b[0m \u001b[0;32mNone\u001b[0m\u001b[0;34m:\u001b[0m\u001b[0;34m\u001b[0m\u001b[0;34m\u001b[0m\u001b[0m\n",
            "\u001b[0;32m/usr/local/lib/python3.10/dist-packages/pandas/io/parsers/readers.py\u001b[0m in \u001b[0;36m_make_engine\u001b[0;34m(self, f, engine)\u001b[0m\n\u001b[1;32m   1733\u001b[0m                 \u001b[0;32mif\u001b[0m \u001b[0;34m\"b\"\u001b[0m \u001b[0;32mnot\u001b[0m \u001b[0;32min\u001b[0m \u001b[0mmode\u001b[0m\u001b[0;34m:\u001b[0m\u001b[0;34m\u001b[0m\u001b[0;34m\u001b[0m\u001b[0m\n\u001b[1;32m   1734\u001b[0m                     \u001b[0mmode\u001b[0m \u001b[0;34m+=\u001b[0m \u001b[0;34m\"b\"\u001b[0m\u001b[0;34m\u001b[0m\u001b[0;34m\u001b[0m\u001b[0m\n\u001b[0;32m-> 1735\u001b[0;31m             self.handles = get_handle(\n\u001b[0m\u001b[1;32m   1736\u001b[0m                 \u001b[0mf\u001b[0m\u001b[0;34m,\u001b[0m\u001b[0;34m\u001b[0m\u001b[0;34m\u001b[0m\u001b[0m\n\u001b[1;32m   1737\u001b[0m                 \u001b[0mmode\u001b[0m\u001b[0;34m,\u001b[0m\u001b[0;34m\u001b[0m\u001b[0;34m\u001b[0m\u001b[0m\n",
            "\u001b[0;32m/usr/local/lib/python3.10/dist-packages/pandas/io/common.py\u001b[0m in \u001b[0;36mget_handle\u001b[0;34m(path_or_buf, mode, encoding, compression, memory_map, is_text, errors, storage_options)\u001b[0m\n\u001b[1;32m    854\u001b[0m         \u001b[0;32mif\u001b[0m \u001b[0mioargs\u001b[0m\u001b[0;34m.\u001b[0m\u001b[0mencoding\u001b[0m \u001b[0;32mand\u001b[0m \u001b[0;34m\"b\"\u001b[0m \u001b[0;32mnot\u001b[0m \u001b[0;32min\u001b[0m \u001b[0mioargs\u001b[0m\u001b[0;34m.\u001b[0m\u001b[0mmode\u001b[0m\u001b[0;34m:\u001b[0m\u001b[0;34m\u001b[0m\u001b[0;34m\u001b[0m\u001b[0m\n\u001b[1;32m    855\u001b[0m             \u001b[0;31m# Encoding\u001b[0m\u001b[0;34m\u001b[0m\u001b[0;34m\u001b[0m\u001b[0m\n\u001b[0;32m--> 856\u001b[0;31m             handle = open(\n\u001b[0m\u001b[1;32m    857\u001b[0m                 \u001b[0mhandle\u001b[0m\u001b[0;34m,\u001b[0m\u001b[0;34m\u001b[0m\u001b[0;34m\u001b[0m\u001b[0m\n\u001b[1;32m    858\u001b[0m                 \u001b[0mioargs\u001b[0m\u001b[0;34m.\u001b[0m\u001b[0mmode\u001b[0m\u001b[0;34m,\u001b[0m\u001b[0;34m\u001b[0m\u001b[0;34m\u001b[0m\u001b[0m\n",
            "\u001b[0;31mFileNotFoundError\u001b[0m: [Errno 2] No such file or directory: 'data.csv'"
          ]
        }
      ],
      "source": [
        "import pandas as pd\n",
        "import numpy as np\n",
        "import tensorflow as tf\n",
        "from sklearn.model_selection import train_test_split\n",
        "from sklearn.preprocessing import StandardScaler\n",
        "from tensorflow import keras\n",
        "\n",
        "# Step 1: Read the data from CSV file\n",
        "data = pd.read_csv(\"data.csv\")\n",
        "\n",
        "# Step 2: Preprocess the data\n",
        "iv_data = data[[\"IV\"]].values\n",
        "keystream_data = data[[\"Keystream\"]].values\n",
        "\n",
        "# Prepare the labels (first bit of keystream)\n",
        "labels = np.array([keystream[0] & 1 for keystream in keystream_data])\n",
        "\n",
        "# Step 3: Split the dataset\n",
        "iv_train, iv_test, labels_train, labels_test = train_test_split(iv_data, labels, test_size=0.2, random_state=42)\n",
        "\n",
        "# Step 4: Build the neural network\n",
        "model = keras.Sequential([\n",
        "    keras.layers.Dense(64, activation='relu', input_shape=(8,)),  # Input layer with 8 features\n",
        "    keras.layers.Dense(32, activation='relu'),  # First hidden layer with 32 neurons\n",
        "    keras.layers.Dense(16, activation='relu'),  # Second hidden layer with 16 neurons\n",
        "    keras.layers.Dense(1, activation='sigmoid')  # Output layer with 1 neuron (for binary classification)\n",
        "])\n",
        "\n",
        "# Step 5: Train the neural network\n",
        "model.compile(optimizer='adam', loss='binary_crossentropy', metrics=['accuracy'])\n",
        "model.fit(iv_train, labels_train, epochs=50, batch_size=32, validation_split=0.1)\n",
        "\n",
        "# Step 6: Evaluate the model\n",
        "test_loss, test_accuracy = model.evaluate(iv_test, labels_test)\n",
        "print(\"Test accuracy:\", test_accuracy)\n",
        "\n",
        "# Step 7: Make predictions\n",
        "predictions = model.predict(iv_test)\n",
        "# The predictions will be probabilities of the first bit being 1.\n",
        "# You can use these probabilities for further analysis or decisions.\n",
        "\n",
        "# You can use the test_accuracy to determine the strength of the crypto.\n",
        "# An accuracy of 50% indicates the model is no better than random guessing,\n",
        "# which implies the keystream is indistinguishable from random, and hence the crypto is strong.\n",
        "# Higher accuracy would indicate some patterns or biases in the keystream generation.\n"
      ]
    },
    {
      "cell_type": "code",
      "source": [
        "import pandas as pd\n",
        "import numpy as np\n",
        "import tensorflow as tf\n",
        "from sklearn.model_selection import train_test_split\n",
        "from sklearn.preprocessing import StandardScaler\n",
        "from tensorflow import keras"
      ],
      "metadata": {
        "id": "Bvvbx0dRNunQ"
      },
      "execution_count": null,
      "outputs": []
    },
    {
      "cell_type": "code",
      "source": [
        "# Step 1: Read the data from CSV file\n",
        "data = pd.read_csv(\"data.csv\")"
      ],
      "metadata": {
        "id": "1fDIaVAkNvjF"
      },
      "execution_count": null,
      "outputs": []
    },
    {
      "cell_type": "code",
      "source": [
        "# Step 2: Preprocess the data\n",
        "iv_data = data[\"IV\"].apply(lambda x: int(x, 16))  # Convert hexadecimal string to integers\n",
        "keystream_data = data[\"Keystream\"].apply(lambda x: int(x, 16))  # Convert hexadecimal string to integers\n",
        "\n"
      ],
      "metadata": {
        "id": "vu8h63KmLUYE"
      },
      "execution_count": null,
      "outputs": []
    },
    {
      "cell_type": "code",
      "source": [
        "# Prepare the labels (first bit of keystream)\n",
        "labels = np.array([keystream & 1 for keystream in keystream_data])"
      ],
      "metadata": {
        "id": "1RyZA-EzUTXp"
      },
      "execution_count": null,
      "outputs": []
    },
    {
      "cell_type": "code",
      "source": [
        "# Step 3: Split the dataset\n",
        "#iv_train, iv_test, labels_train, labels_test = train_test_split(iv_data, labels, test_size=0.2, random_state=42)\n",
        "\n",
        "# Step 3: Split the dataset\n",
        "iv_train, iv_test, labels_train, labels_test = train_test_split(iv_data, labels, test_size=0.2, random_state=42, shuffle=True, stratify=labels)\n",
        "\n",
        "\n",
        "# Reshape the input data to have the correct shape\n",
        "#iv_train = iv_train.values.reshape(-1, 8)\n",
        "#iv_test = iv_test.values.reshape(-1, 8)\n",
        "\n",
        "# Reshape the input data to have the correct shape\n",
        "iv_train = iv_train.values.reshape(-1, 8, 1)\n",
        "iv_test = iv_test.values.reshape(-1, 8, 1)\n",
        "\n",
        "# Reshape the output labels to have the correct shape\n",
        "labels_train = labels_train.reshape(-1, 1)\n",
        "labels_test = labels_test.reshape(-1, 1)"
      ],
      "metadata": {
        "id": "Oe8EEremUa-F"
      },
      "execution_count": 27,
      "outputs": []
    },
    {
      "cell_type": "code",
      "source": [
        "# Step 4: Build the neural network\n",
        "model = keras.Sequential([\n",
        "    keras.layers.Dense(64, activation='relu', input_shape=(8,)),  # Input layer with 8 features\n",
        "    keras.layers.Dense(32, activation='relu'),  # First hidden layer with 32 neurons\n",
        "    keras.layers.Dense(16, activation='relu'),  # Second hidden layer with 16 neurons\n",
        "    keras.layers.Dense(1, activation='sigmoid')  # Output layer with 1 neuron (for binary classification)\n",
        "])"
      ],
      "metadata": {
        "id": "ZBmsF-FPUfnk"
      },
      "execution_count": 29,
      "outputs": []
    },
    {
      "cell_type": "code",
      "source": [
        "\n",
        "# Step 5: Train the neural network\n",
        "model.compile(optimizer='adam', loss='binary_crossentropy', metrics=['accuracy'])\n",
        "model.fit(iv_train, labels_train, epochs=50, batch_size=32, validation_split=0.1)\n",
        "\n",
        "# Step 5: Train the neural network\n",
        "#model.compile(optimizer='adam', loss='binary_crossentropy', metrics=['accuracy'])\n",
        "#model.fit(iv_train, labels_train, epochs=50, batch_size=32, validation_split=0.2)  # Use validation_split to ensure consistent sizes\n",
        "\n"
      ],
      "metadata": {
        "id": "OECH1HOeVGJN",
        "outputId": "c8b17682-62bd-4a2e-a70a-80beb3c00b53",
        "colab": {
          "base_uri": "https://localhost:8080/"
        }
      },
      "execution_count": 30,
      "outputs": [
        {
          "output_type": "stream",
          "name": "stdout",
          "text": [
            "Epoch 1/50\n",
            "29/29 [==============================] - 1s 11ms/step - loss: 287438263923245056.0000 - accuracy: 0.5200 - val_loss: 213506449236557824.0000 - val_accuracy: 0.4900\n",
            "Epoch 2/50\n",
            "29/29 [==============================] - 0s 4ms/step - loss: 132836689855905792.0000 - accuracy: 0.5744 - val_loss: 156705901883949056.0000 - val_accuracy: 0.5400\n",
            "Epoch 3/50\n",
            "29/29 [==============================] - 0s 4ms/step - loss: 103597643426430976.0000 - accuracy: 0.5689 - val_loss: 155325791452790784.0000 - val_accuracy: 0.4800\n",
            "Epoch 4/50\n",
            "29/29 [==============================] - 0s 4ms/step - loss: 111741056038469632.0000 - accuracy: 0.5467 - val_loss: 120942508074074112.0000 - val_accuracy: 0.4600\n",
            "Epoch 5/50\n",
            "29/29 [==============================] - 0s 3ms/step - loss: 77314908886138880.0000 - accuracy: 0.5767 - val_loss: 105851135457230848.0000 - val_accuracy: 0.4700\n",
            "Epoch 6/50\n",
            "29/29 [==============================] - 0s 3ms/step - loss: 66111001363218432.0000 - accuracy: 0.5800 - val_loss: 96427247065366528.0000 - val_accuracy: 0.4400\n",
            "Epoch 7/50\n",
            "29/29 [==============================] - 0s 4ms/step - loss: 64635667212140544.0000 - accuracy: 0.5911 - val_loss: 144436554708811776.0000 - val_accuracy: 0.5200\n",
            "Epoch 8/50\n",
            "29/29 [==============================] - 0s 4ms/step - loss: 66696310916382720.0000 - accuracy: 0.5933 - val_loss: 114655844183834624.0000 - val_accuracy: 0.5400\n",
            "Epoch 9/50\n",
            "29/29 [==============================] - 0s 4ms/step - loss: 74624300853755904.0000 - accuracy: 0.5611 - val_loss: 99525636472700928.0000 - val_accuracy: 0.5100\n",
            "Epoch 10/50\n",
            "29/29 [==============================] - 0s 4ms/step - loss: 49485805730660352.0000 - accuracy: 0.6089 - val_loss: 99675255953424384.0000 - val_accuracy: 0.4500\n",
            "Epoch 11/50\n",
            "29/29 [==============================] - 0s 3ms/step - loss: 63456007199653888.0000 - accuracy: 0.5767 - val_loss: 80264417547124736.0000 - val_accuracy: 0.4200\n",
            "Epoch 12/50\n",
            "29/29 [==============================] - 0s 4ms/step - loss: 49882218327179264.0000 - accuracy: 0.5889 - val_loss: 81327310283735040.0000 - val_accuracy: 0.4600\n",
            "Epoch 13/50\n",
            "29/29 [==============================] - 0s 3ms/step - loss: 38529975518756864.0000 - accuracy: 0.6244 - val_loss: 76778544780279808.0000 - val_accuracy: 0.4200\n",
            "Epoch 14/50\n",
            "29/29 [==============================] - 0s 4ms/step - loss: 35905314561720320.0000 - accuracy: 0.6278 - val_loss: 99563715652747264.0000 - val_accuracy: 0.4700\n",
            "Epoch 15/50\n",
            "29/29 [==============================] - 0s 3ms/step - loss: 40509083563851776.0000 - accuracy: 0.6078 - val_loss: 93429832339161088.0000 - val_accuracy: 0.4700\n",
            "Epoch 16/50\n",
            "29/29 [==============================] - 0s 3ms/step - loss: 31829102835007488.0000 - accuracy: 0.6300 - val_loss: 68830140863348736.0000 - val_accuracy: 0.4500\n",
            "Epoch 17/50\n",
            "29/29 [==============================] - 0s 4ms/step - loss: 29789412128718848.0000 - accuracy: 0.6322 - val_loss: 71151132600172544.0000 - val_accuracy: 0.4100\n",
            "Epoch 18/50\n",
            "29/29 [==============================] - 0s 4ms/step - loss: 45428341536194560.0000 - accuracy: 0.6056 - val_loss: 74694549338849280.0000 - val_accuracy: 0.4800\n",
            "Epoch 19/50\n",
            "29/29 [==============================] - 0s 3ms/step - loss: 33197863815086080.0000 - accuracy: 0.6300 - val_loss: 63510819572285440.0000 - val_accuracy: 0.4800\n",
            "Epoch 20/50\n",
            "29/29 [==============================] - 0s 4ms/step - loss: 29531409148280832.0000 - accuracy: 0.6600 - val_loss: 61986913636057088.0000 - val_accuracy: 0.4900\n",
            "Epoch 21/50\n",
            "29/29 [==============================] - 0s 4ms/step - loss: 22918954808770560.0000 - accuracy: 0.6778 - val_loss: 66464262423314432.0000 - val_accuracy: 0.5100\n",
            "Epoch 22/50\n",
            "29/29 [==============================] - 0s 3ms/step - loss: 25922073251545088.0000 - accuracy: 0.6822 - val_loss: 68987560004681728.0000 - val_accuracy: 0.4300\n",
            "Epoch 23/50\n",
            "29/29 [==============================] - 0s 3ms/step - loss: 28823259235483648.0000 - accuracy: 0.6411 - val_loss: 62863572295745536.0000 - val_accuracy: 0.4000\n",
            "Epoch 24/50\n",
            "29/29 [==============================] - 0s 4ms/step - loss: 26544742577733632.0000 - accuracy: 0.6511 - val_loss: 62568722790875136.0000 - val_accuracy: 0.4300\n",
            "Epoch 25/50\n",
            "29/29 [==============================] - 0s 3ms/step - loss: 28800001987575808.0000 - accuracy: 0.6556 - val_loss: 67460067770761216.0000 - val_accuracy: 0.4000\n",
            "Epoch 26/50\n",
            "29/29 [==============================] - 0s 3ms/step - loss: 23309165472514048.0000 - accuracy: 0.6756 - val_loss: 63194581130280960.0000 - val_accuracy: 0.5000\n",
            "Epoch 27/50\n",
            "29/29 [==============================] - 0s 4ms/step - loss: 19540550713606144.0000 - accuracy: 0.6900 - val_loss: 49889420987334656.0000 - val_accuracy: 0.4700\n",
            "Epoch 28/50\n",
            "29/29 [==============================] - 0s 4ms/step - loss: 18455500240715776.0000 - accuracy: 0.6822 - val_loss: 72075512641486848.0000 - val_accuracy: 0.5700\n",
            "Epoch 29/50\n",
            "29/29 [==============================] - 0s 4ms/step - loss: 22810141812326400.0000 - accuracy: 0.6556 - val_loss: 46141422071447552.0000 - val_accuracy: 0.5100\n",
            "Epoch 30/50\n",
            "29/29 [==============================] - 0s 3ms/step - loss: 19997614690795520.0000 - accuracy: 0.6911 - val_loss: 66683529093709824.0000 - val_accuracy: 0.4500\n",
            "Epoch 31/50\n",
            "29/29 [==============================] - 0s 4ms/step - loss: 23462242401910784.0000 - accuracy: 0.6667 - val_loss: 57695163270561792.0000 - val_accuracy: 0.4800\n",
            "Epoch 32/50\n",
            "29/29 [==============================] - 0s 3ms/step - loss: 18759532385665024.0000 - accuracy: 0.7000 - val_loss: 57278903630168064.0000 - val_accuracy: 0.4900\n",
            "Epoch 33/50\n",
            "29/29 [==============================] - 0s 4ms/step - loss: 17751989966340096.0000 - accuracy: 0.6767 - val_loss: 48504753595875328.0000 - val_accuracy: 0.4900\n",
            "Epoch 34/50\n",
            "29/29 [==============================] - 0s 3ms/step - loss: 15972398184529920.0000 - accuracy: 0.7000 - val_loss: 57859261086040064.0000 - val_accuracy: 0.4300\n",
            "Epoch 35/50\n",
            "29/29 [==============================] - 0s 4ms/step - loss: 26591231303745536.0000 - accuracy: 0.6478 - val_loss: 60020123557167104.0000 - val_accuracy: 0.4000\n",
            "Epoch 36/50\n",
            "29/29 [==============================] - 0s 3ms/step - loss: 18621983910526976.0000 - accuracy: 0.6900 - val_loss: 65938708750139392.0000 - val_accuracy: 0.5100\n",
            "Epoch 37/50\n",
            "29/29 [==============================] - 0s 4ms/step - loss: 33717599955058688.0000 - accuracy: 0.6267 - val_loss: 45984939232985088.0000 - val_accuracy: 0.5100\n",
            "Epoch 38/50\n",
            "29/29 [==============================] - 0s 4ms/step - loss: 20753142387834880.0000 - accuracy: 0.6700 - val_loss: 46508963897802752.0000 - val_accuracy: 0.5200\n",
            "Epoch 39/50\n",
            "29/29 [==============================] - 0s 3ms/step - loss: 15600159811436544.0000 - accuracy: 0.7100 - val_loss: 63408526336196608.0000 - val_accuracy: 0.4100\n",
            "Epoch 40/50\n",
            "29/29 [==============================] - 0s 4ms/step - loss: 21920843063885824.0000 - accuracy: 0.6844 - val_loss: 55417224285913088.0000 - val_accuracy: 0.5100\n",
            "Epoch 41/50\n",
            "29/29 [==============================] - 0s 4ms/step - loss: 15787806932598784.0000 - accuracy: 0.7222 - val_loss: 51356994132508672.0000 - val_accuracy: 0.4300\n",
            "Epoch 42/50\n",
            "29/29 [==============================] - 0s 3ms/step - loss: 15790804819771392.0000 - accuracy: 0.6967 - val_loss: 61785608518893568.0000 - val_accuracy: 0.5200\n",
            "Epoch 43/50\n",
            "29/29 [==============================] - 0s 4ms/step - loss: 22150864332390400.0000 - accuracy: 0.6856 - val_loss: 55403166857953280.0000 - val_accuracy: 0.4100\n",
            "Epoch 44/50\n",
            "29/29 [==============================] - 0s 3ms/step - loss: 14132995761897472.0000 - accuracy: 0.7289 - val_loss: 44551966344347648.0000 - val_accuracy: 0.4500\n",
            "Epoch 45/50\n",
            "29/29 [==============================] - 0s 4ms/step - loss: 10931550761779200.0000 - accuracy: 0.7411 - val_loss: 35215053187710976.0000 - val_accuracy: 0.5100\n",
            "Epoch 46/50\n",
            "29/29 [==============================] - 0s 4ms/step - loss: 10017482936942592.0000 - accuracy: 0.7556 - val_loss: 35575759573614592.0000 - val_accuracy: 0.4700\n",
            "Epoch 47/50\n",
            "29/29 [==============================] - 0s 5ms/step - loss: 13721265164517376.0000 - accuracy: 0.7133 - val_loss: 45552796803530752.0000 - val_accuracy: 0.5000\n",
            "Epoch 48/50\n",
            "29/29 [==============================] - 0s 4ms/step - loss: 32188104118894592.0000 - accuracy: 0.6067 - val_loss: 43770711793205248.0000 - val_accuracy: 0.4800\n",
            "Epoch 49/50\n",
            "29/29 [==============================] - 0s 5ms/step - loss: 17092691011567616.0000 - accuracy: 0.6922 - val_loss: 38739363764371456.0000 - val_accuracy: 0.4700\n",
            "Epoch 50/50\n",
            "29/29 [==============================] - 0s 5ms/step - loss: 11067831147823104.0000 - accuracy: 0.7600 - val_loss: 46776501705637888.0000 - val_accuracy: 0.4100\n"
          ]
        },
        {
          "output_type": "execute_result",
          "data": {
            "text/plain": [
              "<keras.callbacks.History at 0x788f5120baf0>"
            ]
          },
          "metadata": {},
          "execution_count": 30
        }
      ]
    },
    {
      "cell_type": "code",
      "source": [
        "print(iv_test.shape)\n",
        "print(labels_test.shape)\n"
      ],
      "metadata": {
        "colab": {
          "base_uri": "https://localhost:8080/"
        },
        "id": "9zRzKGe-bwGT",
        "outputId": "8485bd9e-68db-4a4c-8dda-809259cc3d9c"
      },
      "execution_count": 31,
      "outputs": [
        {
          "output_type": "stream",
          "name": "stdout",
          "text": [
            "(250, 8, 1)\n",
            "(2000, 1)\n"
          ]
        }
      ]
    },
    {
      "cell_type": "code",
      "source": [
        "print(np.unique(labels_test).shape[0])\n"
      ],
      "metadata": {
        "colab": {
          "base_uri": "https://localhost:8080/"
        },
        "id": "DeqU4nKRb-8z",
        "outputId": "baee934c-2393-4c85-de9b-92242b1a5705"
      },
      "execution_count": 32,
      "outputs": [
        {
          "output_type": "stream",
          "name": "stdout",
          "text": [
            "2\n"
          ]
        }
      ]
    },
    {
      "cell_type": "code",
      "source": [
        "# Step 6: Evaluate the model\n",
        "test_loss, test_accuracy = model.evaluate(iv_test, labels_test)\n",
        "print(\"Test accuracy:\", test_accuracy)\n",
        "\n",
        "\n",
        "\n",
        "\n"
      ],
      "metadata": {
        "colab": {
          "base_uri": "https://localhost:8080/",
          "height": 432
        },
        "id": "xlxpe7a3WDk8",
        "outputId": "32e99e1f-05b0-4c48-bb49-6463f9842ebf"
      },
      "execution_count": 33,
      "outputs": [
        {
          "output_type": "error",
          "ename": "ValueError",
          "evalue": "ignored",
          "traceback": [
            "\u001b[0;31m---------------------------------------------------------------------------\u001b[0m",
            "\u001b[0;31mValueError\u001b[0m                                Traceback (most recent call last)",
            "\u001b[0;32m<ipython-input-33-903b95ad2714>\u001b[0m in \u001b[0;36m<cell line: 2>\u001b[0;34m()\u001b[0m\n\u001b[1;32m      1\u001b[0m \u001b[0;31m# Step 6: Evaluate the model\u001b[0m\u001b[0;34m\u001b[0m\u001b[0;34m\u001b[0m\u001b[0m\n\u001b[0;32m----> 2\u001b[0;31m \u001b[0mtest_loss\u001b[0m\u001b[0;34m,\u001b[0m \u001b[0mtest_accuracy\u001b[0m \u001b[0;34m=\u001b[0m \u001b[0mmodel\u001b[0m\u001b[0;34m.\u001b[0m\u001b[0mevaluate\u001b[0m\u001b[0;34m(\u001b[0m\u001b[0miv_test\u001b[0m\u001b[0;34m,\u001b[0m \u001b[0mlabels_test\u001b[0m\u001b[0;34m)\u001b[0m\u001b[0;34m\u001b[0m\u001b[0;34m\u001b[0m\u001b[0m\n\u001b[0m\u001b[1;32m      3\u001b[0m \u001b[0mprint\u001b[0m\u001b[0;34m(\u001b[0m\u001b[0;34m\"Test accuracy:\"\u001b[0m\u001b[0;34m,\u001b[0m \u001b[0mtest_accuracy\u001b[0m\u001b[0;34m)\u001b[0m\u001b[0;34m\u001b[0m\u001b[0;34m\u001b[0m\u001b[0m\n\u001b[1;32m      4\u001b[0m \u001b[0;34m\u001b[0m\u001b[0m\n\u001b[1;32m      5\u001b[0m \u001b[0;34m\u001b[0m\u001b[0m\n",
            "\u001b[0;32m/usr/local/lib/python3.10/dist-packages/keras/utils/traceback_utils.py\u001b[0m in \u001b[0;36merror_handler\u001b[0;34m(*args, **kwargs)\u001b[0m\n\u001b[1;32m     68\u001b[0m             \u001b[0;31m# To get the full stack trace, call:\u001b[0m\u001b[0;34m\u001b[0m\u001b[0;34m\u001b[0m\u001b[0m\n\u001b[1;32m     69\u001b[0m             \u001b[0;31m# `tf.debugging.disable_traceback_filtering()`\u001b[0m\u001b[0;34m\u001b[0m\u001b[0;34m\u001b[0m\u001b[0m\n\u001b[0;32m---> 70\u001b[0;31m             \u001b[0;32mraise\u001b[0m \u001b[0me\u001b[0m\u001b[0;34m.\u001b[0m\u001b[0mwith_traceback\u001b[0m\u001b[0;34m(\u001b[0m\u001b[0mfiltered_tb\u001b[0m\u001b[0;34m)\u001b[0m \u001b[0;32mfrom\u001b[0m \u001b[0;32mNone\u001b[0m\u001b[0;34m\u001b[0m\u001b[0;34m\u001b[0m\u001b[0m\n\u001b[0m\u001b[1;32m     71\u001b[0m         \u001b[0;32mfinally\u001b[0m\u001b[0;34m:\u001b[0m\u001b[0;34m\u001b[0m\u001b[0;34m\u001b[0m\u001b[0m\n\u001b[1;32m     72\u001b[0m             \u001b[0;32mdel\u001b[0m \u001b[0mfiltered_tb\u001b[0m\u001b[0;34m\u001b[0m\u001b[0;34m\u001b[0m\u001b[0m\n",
            "\u001b[0;32m/usr/local/lib/python3.10/dist-packages/keras/engine/data_adapter.py\u001b[0m in \u001b[0;36m_check_data_cardinality\u001b[0;34m(data)\u001b[0m\n\u001b[1;32m   1850\u001b[0m             )\n\u001b[1;32m   1851\u001b[0m         \u001b[0mmsg\u001b[0m \u001b[0;34m+=\u001b[0m \u001b[0;34m\"Make sure all arrays contain the same number of samples.\"\u001b[0m\u001b[0;34m\u001b[0m\u001b[0;34m\u001b[0m\u001b[0m\n\u001b[0;32m-> 1852\u001b[0;31m         \u001b[0;32mraise\u001b[0m \u001b[0mValueError\u001b[0m\u001b[0;34m(\u001b[0m\u001b[0mmsg\u001b[0m\u001b[0;34m)\u001b[0m\u001b[0;34m\u001b[0m\u001b[0;34m\u001b[0m\u001b[0m\n\u001b[0m\u001b[1;32m   1853\u001b[0m \u001b[0;34m\u001b[0m\u001b[0m\n\u001b[1;32m   1854\u001b[0m \u001b[0;34m\u001b[0m\u001b[0m\n",
            "\u001b[0;31mValueError\u001b[0m: Data cardinality is ambiguous:\n  x sizes: 250\n  y sizes: 2000\nMake sure all arrays contain the same number of samples."
          ]
        }
      ]
    }
  ]
}
